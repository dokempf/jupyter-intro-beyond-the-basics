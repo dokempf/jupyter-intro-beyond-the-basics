{
 "cells": [
  {
   "cell_type": "code",
   "execution_count": null,
   "id": "752a5a4b-a4ad-4795-91ec-5f2162f10c07",
   "metadata": {},
   "outputs": [],
   "source": [
    "#include<iostream>"
   ]
  },
  {
   "cell_type": "code",
   "execution_count": null,
   "id": "434ec432-7c0d-457b-af13-d2f905297a62",
   "metadata": {},
   "outputs": [],
   "source": [
    "std::cout <<  \"Hello World\" << std::endl;"
   ]
  },
  {
   "cell_type": "code",
   "execution_count": null,
   "id": "702a7e93-a198-479f-b422-b7d2d8dd3ea2",
   "metadata": {},
   "outputs": [],
   "source": []
  }
 ],
 "metadata": {
  "kernelspec": {
   "display_name": "C++14",
   "language": "C++14",
   "name": "xcpp14"
  },
  "language_info": {
   "codemirror_mode": "text/x-c++src",
   "file_extension": ".cpp",
   "mimetype": "text/x-c++src",
   "name": "c++",
   "version": "14"
  }
 },
 "nbformat": 4,
 "nbformat_minor": 5
}
