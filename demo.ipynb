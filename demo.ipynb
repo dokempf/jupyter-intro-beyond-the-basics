{
 "cells": [
  {
   "cell_type": "markdown",
   "id": "f77ca5ba-a08d-492f-9e57-d1b49b348627",
   "metadata": {},
   "source": [
    "# The Jupyter Ecosystem"
   ]
  },
  {
   "cell_type": "markdown",
   "id": "c254d86f-4629-4d1f-b7f6-70ca3b23d928",
   "metadata": {},
   "source": [
    "What is Project Jupyter? What possibilities do we have to extend Jupyter?"
   ]
  },
  {
   "cell_type": "markdown",
   "id": "e4a9c2cb-1ef9-477f-a29d-48a0b54cd5b1",
   "metadata": {
    "tags": []
   },
   "source": [
    "## A bit of terminology\n",
    "\n",
    "* *Project Jupyter* is the umbrella organization for all of below\n",
    "* *Jupyter Notebook* is a web-frontend to present and edit code, documentation, visualization and UI elements in an interleaved fashion\n",
    "* *IPython Notebook* is the file format for these notebooks (*.ipynb) which despite the name are not restricted to Python\n",
    "* *JupyterLab* is the next generation web-frontend that aims more into the direction of an IDE\n",
    "* *JupyterHub* is a multi-user platform that allows to run Jupyter Notebook or JupyterLab\n"
   ]
  },
  {
   "cell_type": "markdown",
   "id": "46e8e732-c88c-4c1f-8b96-a084f63a9b1e",
   "metadata": {},
   "source": [
    "## The basic thing"
   ]
  },
  {
   "cell_type": "markdown",
   "id": "c3f8bcf8-eed3-4d62-b0de-19652a87d0d9",
   "metadata": {},
   "source": [
    "Jupyter notebooks are organized as cells. Each cell either contains Markdown text or code. Cells can be executed, which will result in the respective code snippet being executed changing the current interpreter state:"
   ]
  },
  {
   "cell_type": "code",
   "execution_count": null,
   "id": "26593afc-1062-410b-b06f-0858eb98f97c",
   "metadata": {},
   "outputs": [],
   "source": [
    "print(\"Hello World\")"
   ]
  },
  {
   "cell_type": "markdown",
   "id": "72294bff-0c5d-497e-9971-0c9b62190dc1",
   "metadata": {},
   "source": [
    "This can be used to write Python scripts which are later exported into regular `*.py` files."
   ]
  },
  {
   "cell_type": "markdown",
   "id": "706b556f-6be9-4e90-bfe8-6ca0ea576754",
   "metadata": {},
   "source": [
    "## Extending Jupyter\n",
    "\n",
    "There are many projects that integrate with the Jupyter ecosystem to enhance its capabilities. For all of these extensions the best way to install them is to use the Anaconda package manager (both official and my recommendation."
   ]
  },
  {
   "cell_type": "markdown",
   "id": "9f10f9f7-8a53-458d-8479-8fd89fa8b93e",
   "metadata": {},
   "source": [
    "### UI elements for Python\n",
    "\n",
    "The `ipywidgets` project allows you to write user interface that let your Python code (from notebook or library) interact with the HTML/JS frontend directly."
   ]
  },
  {
   "cell_type": "code",
   "execution_count": null,
   "id": "8bd328c1-ef42-471a-965f-ae2a2b353c01",
   "metadata": {},
   "outputs": [],
   "source": [
    "import ipywidgets"
   ]
  },
  {
   "cell_type": "code",
   "execution_count": null,
   "id": "7886d5a3-a52f-463f-8654-38601b081939",
   "metadata": {},
   "outputs": [],
   "source": [
    "field = ipywidgets.IntText()\n",
    "field"
   ]
  },
  {
   "cell_type": "code",
   "execution_count": null,
   "id": "ac9cc805-9a9d-4b38-818c-4faf5b52aefe",
   "metadata": {},
   "outputs": [],
   "source": [
    "type(field)"
   ]
  },
  {
   "cell_type": "code",
   "execution_count": null,
   "id": "b7717d8b-9db7-4a99-ae2c-70c25b55e7dc",
   "metadata": {},
   "outputs": [],
   "source": [
    "ipywidgets.Button(description=\"Click me\")"
   ]
  },
  {
   "cell_type": "markdown",
   "id": "2c0fd8b5-ca42-4e48-ab34-7814f4d08eb0",
   "metadata": {},
   "source": [
    "A very good overview of available widgets can be interactively explored (using MyBinder): https://ipywidgets.readthedocs.io/en/latest/examples/Widget%20List.html"
   ]
  },
  {
   "cell_type": "markdown",
   "id": "d01d88be-0310-43e9-bcf7-71a3aab1b870",
   "metadata": {},
   "source": [
    "### Non-Python language kernels\n",
    "\n",
    "There is a close relation between Jupyter and Python. But there are kernel implementations for many other languages:\n",
    "\n",
    "* C++: [xeus-cling](https://github.com/jupyter-xeus/xeus-cling)\n",
    "* Java: [IJava](https://github.com/SpencerPark/IJava)\n",
    "* R: [IRKernel](https://github.com/IRkernel/IRkernel)\n",
    "\n",
    "For a larger list [check here](https://awesomeopensource.com/projects/jupyter-kernels)."
   ]
  },
  {
   "cell_type": "markdown",
   "id": "3841dea8-ee0a-494f-b1eb-2202abdd7fa4",
   "metadata": {},
   "source": [
    "Notebooks store the kernel that they execute with in their metadata, so that the correct kernel can be selected when opening the notebook elsewhere (must be installed of course)."
   ]
  },
  {
   "cell_type": "markdown",
   "id": "322d151b-0fc3-4960-a951-d2f6af356138",
   "metadata": {},
   "source": [
    "## Frontend Extensions\n",
    "\n",
    "There are many extension that enhance the frontend user experience:\n",
    "\n",
    "* Range from simple [resource usage bar](https://github.com/jupyter-server/jupyter-resource-usage) to a full-blown [visual debugger](https://github.com/jupyterlab/debugger).\n",
    "* Are specific to the frontend - take care\n",
    "* In JupyterLab, there is an extension manager from the UI"
   ]
  },
  {
   "cell_type": "markdown",
   "id": "0bc0b33e-e590-4835-b4b9-f32afb00d4ba",
   "metadata": {},
   "source": [
    "## The rich display system"
   ]
  },
  {
   "cell_type": "markdown",
   "id": "ac51b430-9d80-4264-86c0-8a4831aaa3d4",
   "metadata": {},
   "source": [
    "The Jupyter *Rich display* system allows libraries to define alternative ways to visualize data structures. It does so by specifying one or more *MIME types*. The frontend application chooses which one to pick:"
   ]
  },
  {
   "cell_type": "code",
   "execution_count": null,
   "id": "22374267-a901-4f5c-93bf-f4547051804e",
   "metadata": {},
   "outputs": [],
   "source": [
    "class WorkAtSSC:\n",
    "    def _repr_html_(self):\n",
    "        return \"<img src=https://ssc.iwr.uni-heidelberg.de/sites/default/files/inline-images/development.png width=300></img>\""
   ]
  },
  {
   "cell_type": "code",
   "execution_count": null,
   "id": "fe6fe49c-6a76-42b9-bd19-2063e9354da1",
   "metadata": {
    "tags": []
   },
   "outputs": [],
   "source": [
    "WorkAtSSC()"
   ]
  },
  {
   "cell_type": "code",
   "execution_count": null,
   "id": "1c52ae88-8914-4339-9bc3-bb5d75f7c4ef",
   "metadata": {},
   "outputs": [],
   "source": [
    "class DataSet:\n",
    "    def __init__(self, data):\n",
    "        self.data = data\n",
    "    \n",
    "    def _repr_json_(self):\n",
    "        return self.data"
   ]
  },
  {
   "cell_type": "code",
   "execution_count": null,
   "id": "a29b371d-9868-4503-b750-51578592effd",
   "metadata": {},
   "outputs": [],
   "source": [
    "DataSet({\"records\": [{\"name\": \"Dominic\"}, {\"name\": \"Inga\"}, {\"name\": \"Liam\"}]})"
   ]
  },
  {
   "cell_type": "markdown",
   "id": "5b8c161c-c1c7-46be-a391-e103a9edb80d",
   "metadata": {},
   "source": [
    "What MIME types are available depends on the frontend, e.g. above JSON output is unavailable in classic Jupyter notebook. Therefore, it sometimes makes sense to define multiple MIME types."
   ]
  },
  {
   "cell_type": "markdown",
   "id": "5ecefb32-73b1-43f8-b515-d372bd58986e",
   "metadata": {},
   "source": [
    "There are dedicated projects that use the rich display system to provide impressive visualization capabilities to Jupyter, e.g. [ipyvolume](https://github.com/maartenbreddels/ipyvolume):"
   ]
  },
  {
   "cell_type": "code",
   "execution_count": null,
   "id": "1946c6a7-2b0e-4870-aa21-7646f8fc5850",
   "metadata": {},
   "outputs": [],
   "source": [
    "import numpy as np\n",
    "import ipyvolume as ipv\n",
    "V = np.zeros((128,128,128)) # our 3d array\n",
    "# outer box\n",
    "V[30:-30,30:-30,30:-30] = 0.75\n",
    "V[35:-35,35:-35,35:-35] = 0.0\n",
    "# inner box\n",
    "V[50:-50,50:-50,50:-50] = 0.25\n",
    "V[55:-55,55:-55,55:-55] = 0.0\n",
    "ipv.quickvolshow(V, level=[0.25, 0.75], opacity=0.03, level_width=0.1, data_min=0, data_max=1)"
   ]
  },
  {
   "cell_type": "code",
   "execution_count": null,
   "id": "e08aed53-3fe0-4295-beab-8d66106c4645",
   "metadata": {},
   "outputs": [],
   "source": []
  }
 ],
 "metadata": {
  "kernelspec": {
   "display_name": "Python 3 (ipykernel)",
   "language": "python",
   "name": "python3"
  },
  "language_info": {
   "codemirror_mode": {
    "name": "ipython",
    "version": 3
   },
   "file_extension": ".py",
   "mimetype": "text/x-python",
   "name": "python",
   "nbconvert_exporter": "python",
   "pygments_lexer": "ipython3",
   "version": "3.9.7"
  }
 },
 "nbformat": 4,
 "nbformat_minor": 5
}
